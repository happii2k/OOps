{
  "nbformat": 4,
  "nbformat_minor": 0,
  "metadata": {
    "colab": {
      "provenance": []
    },
    "kernelspec": {
      "name": "python3",
      "display_name": "Python 3"
    },
    "language_info": {
      "name": "python"
    }
  },
  "cells": [
    {
      "cell_type": "markdown",
      "source": [
        "# Python OOPs Questions\n",
        "### 1. What is Object-Oriented Programming (OOP)?\n",
        "* OOP is a programming paradigm based on the concept of objects. It models real-world entities using classes and supports key principles like **abstraction**, **encapsulation**, **inheritance**, and **polymorphism**.\n",
        "\n",
        "---\n",
        "\n",
        "### 2. What is a class in OOP?\n",
        "* A **class** is a blueprint or template for creating objects. It defines attributes (variables) and methods (functions) that describe and define the behavior of its objects.\n",
        "\n",
        "---\n",
        "\n",
        "### 3. What is an object in OOP?\n",
        "* An **object** is an instance of a class. It contains real data and can use the class's methods to perform operations.\n",
        "\n",
        "---\n",
        "\n",
        "### 4. What is the difference between abstraction and encapsulation?\n",
        "* **Abstraction** hides unnecessary implementation details and shows only the relevant features.\n",
        "* **Encapsulation** is the bundling of data and methods in a class and restricting access using access modifiers (like private/protected).\n",
        "\n",
        "---\n",
        "\n",
        "### 5. What are dunder methods in Python?\n",
        "* **Dunder methods** (short for \"double underscore\") like `__init__`, `__str__`, and `__len__` are special methods that enable custom behavior with built-in Python functions and operators.\n",
        "\n",
        "---\n",
        "\n",
        "### 6. Explain the concept of inheritance in OOP.\n",
        "* **Inheritance** is a mechanism where one class (child) inherits attributes and methods from another class (parent), allowing for code reuse and hierarchy modeling.\n",
        "\n",
        "---\n",
        "\n",
        "### 7. What is polymorphism in OOP?\n",
        "* **Polymorphism** means \"many forms\". It allows the same method name to behave differently based on the object calling it, enabling flexibility and extensibility.\n",
        "\n",
        "---\n",
        "\n",
        "### 8. How is encapsulation achieved in Python?\n",
        "* Encapsulation is achieved by:\n",
        "- Defining **private** attributes/methods using an underscore prefix (`_` or `__`)\n",
        "- Using **getters and setters** to access and update values safely\n",
        "\n",
        "---\n",
        "\n",
        "### 9. What is a constructor in Python?\n",
        "* A **constructor** is a special method `__init__()` that gets called automatically when an object is created. It initializes the object’s attributes.\n",
        "\n",
        "---\n",
        "\n",
        "### 10. What are class and static methods in Python?\n",
        "- **Class methods** (`@classmethod`) take `cls` as the first parameter and operate on the class level.\n",
        "- **Static methods** (`@staticmethod`) do not take `self` or `cls`; they are like regular functions inside a class.\n",
        "\n",
        "---\n",
        "\n",
        "### 11. What is method overloading in Python?\n",
        "* Python does **not support method overloading** by default (same method name with different parameters), but similar behavior can be achieved using default arguments or `*args` and `**args`.\n",
        "\n",
        "---\n",
        "\n",
        "### 12. What is method overriding in OOP?\n",
        "* **Method overriding** occurs when a subclass provides a specific implementation of a method already defined in its superclass.\n",
        "\n",
        "---\n",
        "\n",
        "### 13. What is a property decorator in Python?\n",
        "* The `@property` decorator turns a method into a **read-only attribute**. It’s used to access private variables using getter-like syntax.\n",
        "\n",
        "---\n",
        "\n",
        "### 14. Why is polymorphism important in OOP?\n",
        "* Polymorphism allows flexibility in using objects of different classes through a common interface, making code more scalable, modular, and maintainable.\n",
        "\n",
        "---\n",
        "\n",
        "### 15. What is an abstract class in Python?\n",
        "An **abstract class** (from the `abc` module) cannot be instantiated and can contain **abstract methods** (methods without implementation) that must be defined in subclasses.\n",
        "\n",
        "---\n",
        "\n",
        "### 16. What are the advantages of OOP?\n",
        "- **Modularity**: Code is organized into classes\n",
        "- **Reusability**: Inheritance promotes code reuse\n",
        "- **Scalability**: Easier to maintain and scale\n",
        "- **Security**: Encapsulation protects data\n",
        "\n",
        "---\n",
        "\n",
        "### 17. What is the difference between a class variable and an instance variable?\n",
        "- **Class variable**: Shared by all instances of the class\n",
        "- **Instance variable**: Unique to each object instance\n",
        "\n",
        "---\n",
        "\n",
        "### 18. What is multiple inheritance in Python?\n",
        "* **Multiple inheritance** allows a class to inherit from **more than one parent class**, combining their features.\n",
        "\n",
        "---\n",
        "\n",
        "### 19. Explain the purpose of `__str__` and `__repr__` methods in Python.\n",
        " * `__str__()`: Defines the \"informal\" string representation (used by `print()`)\n",
        " *  `__repr__()`: Defines the \"official\" string representation (used for debugging)\n",
        "\n",
        "---\n",
        "\n",
        "### 20. What is the significance of the `super()` function in Python?\n",
        "* `super()` allows you to call methods from the **parent class**, especially useful in constructors and method overrides.\n",
        "\n",
        "---\n",
        "\n",
        "### 21. What is the significance of the `__del__` method in Python?\n",
        "* `__del__()` is a **destructor** method that gets called when an object is about to be destroyed. It’s rarely used.\n",
        "\n",
        "---\n",
        "\n",
        "### 22. What is the difference between `@staticmethod` and `@classmethod` in Python?\n",
        "* `@staticmethod`: No access to `self` or `cls`; behaves like a regular function inside a class.\n",
        "* `@classmethod`: Receives `cls` and can modify class-level state.\n",
        "\n",
        "---\n",
        "\n",
        "### 23. How does polymorphism work in Python with inheritance?\n",
        "* In Python, polymorphism works by **overriding methods** in child classes. A single interface (e.g., a method name) can execute different behavior based on the object's class.\n",
        "\n",
        "---\n",
        "\n",
        "### 24. What is method chaining in Python OOP?\n",
        "* **Method chaining** involves returning `self` from methods so that multiple method calls can be chained together like:  \n",
        "```python\n",
        "obj.set_name(\"Alice\").set_age(30)\n",
        "```\n",
        "\n",
        "---\n",
        "\n",
        "### 25. What is the purpose of the `__call__` method in Python?\n",
        "* The `__call__()` method allows an instance of a class to be **called like a function**. Example:\n",
        "```python\n",
        "class Greet:\n",
        "    def __call__(self, name):\n",
        "        print(f\"Hello, {name}!\")\n",
        "g = Greet()\n",
        "g(\"Alice\")  # Output: Hello, Alice!\n",
        "```\n"
      ],
      "metadata": {
        "id": "WhhHaiJYbH9Q"
      }
    },
    {
      "cell_type": "code",
      "execution_count": 2,
      "metadata": {
        "colab": {
          "base_uri": "https://localhost:8080/"
        },
        "id": "6JXPAtOUa-h_",
        "outputId": "07ac0426-8f14-40cd-d483-d8b3a9bb9610"
      },
      "outputs": [
        {
          "output_type": "stream",
          "name": "stdout",
          "text": [
            "Bark!\n"
          ]
        }
      ],
      "source": [
        "#1. Create a parent class Animal with a method speak() that prints a generic message. Create a child class Dog that overrides the speak() method to print \"Bark!\".\n",
        "class Animal:\n",
        "    def speak(self):\n",
        "        print(\"Some generic animal sound\")\n",
        "\n",
        "class Dog(Animal):\n",
        "    def speak(self):\n",
        "        print(\"Bark!\")\n",
        "\n",
        "dog = Dog()\n",
        "dog.speak()"
      ]
    },
    {
      "cell_type": "code",
      "source": [
        "#2. Write a program to create an abstract class Shape with a method area(). Derive classes Circle and Rectangle from it and implement the area() method in both.\n",
        "from abc import ABC, abstractmethod\n",
        "import math\n",
        "\n",
        "class Shape(ABC):\n",
        "    @abstractmethod\n",
        "    def area(self):\n",
        "        pass\n",
        "\n",
        "class Circle(Shape):\n",
        "    def __init__(self, radius):\n",
        "        self.radius = radius\n",
        "\n",
        "    def area(self):\n",
        "        return math.pi * self.radius ** 2\n",
        "\n",
        "class Rectangle(Shape):\n",
        "    def __init__(self, width, height):\n",
        "        self.width = width\n",
        "        self.height = height\n",
        "\n",
        "    def area(self):\n",
        "        return self.width * self.height\n",
        "\n",
        "circle = Circle(5)\n",
        "rectangle = Rectangle(4, 6)\n",
        "print(circle.area())\n",
        "print(rectangle.area())\n"
      ],
      "metadata": {
        "colab": {
          "base_uri": "https://localhost:8080/"
        },
        "id": "mBiLeo0LdLQ1",
        "outputId": "6de56f34-6b8f-40bd-fcba-eaf3d87601ac"
      },
      "execution_count": 3,
      "outputs": [
        {
          "output_type": "stream",
          "name": "stdout",
          "text": [
            "78.53981633974483\n",
            "24\n"
          ]
        }
      ]
    },
    {
      "cell_type": "code",
      "source": [
        "#3. Implement a multi-level inheritance scenario where a class Vehicle has an attribute type. Derive a class Car and further derive a class ElectricCar that adds a battery attribute.\n",
        "class Vehicle:\n",
        "    def __init__(self, v_type):\n",
        "        self.type = v_type\n",
        "\n",
        "class Car(Vehicle):\n",
        "    def __init__(self, brand, v_type=\"Car\"):\n",
        "        super().__init__(v_type)\n",
        "        self.brand = brand\n",
        "\n",
        "class ElectricCar(Car):\n",
        "    def __init__(self, brand, battery):\n",
        "        super().__init__(brand)\n",
        "        self.battery = battery\n",
        "\n",
        "e_car = ElectricCar(\"Tesla\", \"100kWh\")\n",
        "print(e_car.type, e_car.brand, e_car.battery)"
      ],
      "metadata": {
        "colab": {
          "base_uri": "https://localhost:8080/"
        },
        "id": "2ZARA8t-dUdR",
        "outputId": "9c105c1f-31b9-479c-988f-0be3a7b0e412"
      },
      "execution_count": 4,
      "outputs": [
        {
          "output_type": "stream",
          "name": "stdout",
          "text": [
            "Car Tesla 100kWh\n"
          ]
        }
      ]
    },
    {
      "cell_type": "code",
      "source": [
        "#4. Demonstrate polymorphism by creating a base class Bird with a method fly(). Create two derived classes Sparrow and Penguin that override the fly() method.\n",
        "class Bird:\n",
        "    def fly(self):\n",
        "        print(\"Some birds can fly\")\n",
        "\n",
        "class Sparrow(Bird):\n",
        "    def fly(self):\n",
        "        print(\"Sparrow flies high\")\n",
        "\n",
        "class Penguin(Bird):\n",
        "    def fly(self):\n",
        "        print(\"Penguins can't fly\")\n",
        "\n",
        "birds = [Sparrow(), Penguin()]\n",
        "for bird in birds:\n",
        "    bird.fly()"
      ],
      "metadata": {
        "colab": {
          "base_uri": "https://localhost:8080/"
        },
        "id": "Pc73HVexdakT",
        "outputId": "4695a854-3e38-4ec5-eb48-795fe7b4f858"
      },
      "execution_count": 5,
      "outputs": [
        {
          "output_type": "stream",
          "name": "stdout",
          "text": [
            "Sparrow flies high\n",
            "Penguins can't fly\n"
          ]
        }
      ]
    },
    {
      "cell_type": "code",
      "source": [
        "#5. Write a program to demonstrate encapsulation by creating a class BankAccount with private attributes balance and methods to deposit, withdraw, and check balance.\n",
        "class BankAccount:\n",
        "    def __init__(self, initial_balance):\n",
        "        self.__balance = initial_balance\n",
        "\n",
        "    def deposit(self, amount):\n",
        "        self.__balance += amount\n",
        "\n",
        "    def withdraw(self, amount):\n",
        "        if amount <= self.__balance:\n",
        "            self.__balance -= amount\n",
        "        else:\n",
        "            print(\"Insufficient funds\")\n",
        "\n",
        "    def check_balance(self):\n",
        "        return self.__balance\n",
        "\n",
        "account = BankAccount(1000)\n",
        "account.deposit(500)\n",
        "account.withdraw(200)\n",
        "print(account.check_balance())"
      ],
      "metadata": {
        "colab": {
          "base_uri": "https://localhost:8080/"
        },
        "id": "i5Qbs4rKdguR",
        "outputId": "7c973a44-2291-4897-80a4-8a39f56ea4e5"
      },
      "execution_count": 6,
      "outputs": [
        {
          "output_type": "stream",
          "name": "stdout",
          "text": [
            "1300\n"
          ]
        }
      ]
    },
    {
      "cell_type": "code",
      "source": [
        "#6. Demonstrate runtime polymorphism using a method play() in a base class Instrument. Derive classes Guitar and Piano that implement their own version of play().\n",
        "\n",
        "class Instrument:\n",
        "    def play(self):\n",
        "        print(\"Playing an instrument\")\n",
        "\n",
        "class Guitar(Instrument):\n",
        "    def play(self):\n",
        "        print(\"Playing the guitar\")\n",
        "\n",
        "class Piano(Instrument):\n",
        "    def play(self):\n",
        "        print(\"Playing the piano\")\n",
        "\n",
        "for instrument in [Guitar(), Piano()]:\n",
        "    instrument.play()"
      ],
      "metadata": {
        "colab": {
          "base_uri": "https://localhost:8080/"
        },
        "id": "WPrekVyZdm1f",
        "outputId": "4c5e7423-c7a7-49ea-f28d-2b9adb698444"
      },
      "execution_count": 7,
      "outputs": [
        {
          "output_type": "stream",
          "name": "stdout",
          "text": [
            "Playing the guitar\n",
            "Playing the piano\n"
          ]
        }
      ]
    },
    {
      "cell_type": "code",
      "source": [
        "#7. Create a class MathOperations with a class method add_numbers() to add two numbers and a static method subtract_numbers() to subtract two numbers.\n",
        "class MathOperations:\n",
        "    @classmethod\n",
        "    def add_numbers(cls, a, b):\n",
        "        return a + b\n",
        "\n",
        "    @staticmethod\n",
        "    def subtract_numbers(a, b):\n",
        "        return a - b\n",
        "\n",
        "print(MathOperations.add_numbers(5, 3))\n",
        "print(MathOperations.subtract_numbers(10, 4))"
      ],
      "metadata": {
        "colab": {
          "base_uri": "https://localhost:8080/"
        },
        "id": "Awayt2H5drPL",
        "outputId": "7a34e9de-94ce-4c99-c8de-eee84669d8ec"
      },
      "execution_count": 8,
      "outputs": [
        {
          "output_type": "stream",
          "name": "stdout",
          "text": [
            "8\n",
            "6\n"
          ]
        }
      ]
    },
    {
      "cell_type": "code",
      "source": [
        "#8. Implement a class Person with a class method to count the total number of persons created.\n",
        "\n",
        "class Person:\n",
        "    count = 0\n",
        "\n",
        "    def __init__(self, name):\n",
        "        self.name = name\n",
        "        Person.count += 1\n",
        "\n",
        "    @classmethod\n",
        "    def get_count(cls):\n",
        "        return cls.count\n",
        "\n",
        "p1 = Person(\"Alice\")\n",
        "p2 = Person(\"Bob\")\n",
        "print(\"Total persons:\", Person.get_count())"
      ],
      "metadata": {
        "colab": {
          "base_uri": "https://localhost:8080/"
        },
        "id": "m3r6h4dOdyqj",
        "outputId": "6b298af8-6ab5-46db-949a-3b8ef5928d88"
      },
      "execution_count": 9,
      "outputs": [
        {
          "output_type": "stream",
          "name": "stdout",
          "text": [
            "Total persons: 2\n"
          ]
        }
      ]
    },
    {
      "cell_type": "code",
      "source": [
        "#9. Write a class Fraction with attributes numerator and denominator. Override the __str__ method to display the fraction as \"numerator/denominator\".\n",
        "\n",
        "class Fraction:\n",
        "    def __init__(self, numerator, denominator):\n",
        "        self.numerator = numerator\n",
        "        self.denominator = denominator\n",
        "\n",
        "    def __str__(self):\n",
        "        return f\"{self.numerator}/{self.denominator}\"\n",
        "\n",
        "f = Fraction(3, 4)\n",
        "print(f)"
      ],
      "metadata": {
        "colab": {
          "base_uri": "https://localhost:8080/"
        },
        "id": "6B7hKu-Ld1Ai",
        "outputId": "770dad72-9abc-453e-cf16-2f9f44f7e69e"
      },
      "execution_count": 10,
      "outputs": [
        {
          "output_type": "stream",
          "name": "stdout",
          "text": [
            "3/4\n"
          ]
        }
      ]
    },
    {
      "cell_type": "code",
      "source": [
        "#10. Demonstrate operator overloading by creating a class Vector and overriding the + method to add two vectors.\n",
        "class Vector:\n",
        "    def __init__(self, x, y):\n",
        "        self.x = x\n",
        "        self.y = y\n",
        "\n",
        "    def __add__(self, other):\n",
        "        return Vector(self.x + other.x, self.y + other.y)\n",
        "\n",
        "    def __str__(self):\n",
        "        return f\"({self.x}, {self.y})\"\n",
        "\n",
        "v1 = Vector(2, 3)\n",
        "v2 = Vector(1, 4)\n",
        "print(v1 + v2)"
      ],
      "metadata": {
        "colab": {
          "base_uri": "https://localhost:8080/"
        },
        "id": "ePYfTPrjd4xf",
        "outputId": "4092a28b-9681-4d98-a398-787a0672a7d9"
      },
      "execution_count": 11,
      "outputs": [
        {
          "output_type": "stream",
          "name": "stdout",
          "text": [
            "(3, 7)\n"
          ]
        }
      ]
    },
    {
      "cell_type": "code",
      "source": [
        "#11. Create a class Person with attributes name and age. Add a method greet() that prints \"Hello, my name is {name} and I am {age} years old.\"\n",
        "class Person:\n",
        "    def __init__(self, name, age):\n",
        "        self.name = name\n",
        "        self.age = age\n",
        "\n",
        "    def greet(self):\n",
        "        print(f\"Hello, my name is {self.name} and I am {self.age} years old.\")\n",
        "\n",
        "p = Person(\"Harsh\", 22)\n",
        "p.greet()"
      ],
      "metadata": {
        "colab": {
          "base_uri": "https://localhost:8080/"
        },
        "id": "GSXRqto0d8t7",
        "outputId": "8ea446b5-c000-4b04-d8c0-ec53cb41c080"
      },
      "execution_count": 12,
      "outputs": [
        {
          "output_type": "stream",
          "name": "stdout",
          "text": [
            "Hello, my name is Harsh and I am 22 years old.\n"
          ]
        }
      ]
    },
    {
      "cell_type": "code",
      "source": [
        "#12. Implement a class Student with attributes name and grades. Create a method average_grade() to compute the average of the grades.\n",
        "class Student:\n",
        "    def __init__(self, name, grades):\n",
        "        self.name = name\n",
        "        self.grades = grades\n",
        "\n",
        "    def average_grade(self):\n",
        "        return sum(self.grades) / len(self.grades)\n",
        "\n",
        "s = Student(\"Ravi\", [85, 90, 78])\n",
        "print(s.average_grade())"
      ],
      "metadata": {
        "colab": {
          "base_uri": "https://localhost:8080/"
        },
        "id": "R0OCIAxreCAU",
        "outputId": "a352a8a9-4ade-414e-8449-a91110e82bac"
      },
      "execution_count": 13,
      "outputs": [
        {
          "output_type": "stream",
          "name": "stdout",
          "text": [
            "84.33333333333333\n"
          ]
        }
      ]
    },
    {
      "cell_type": "code",
      "source": [
        "#13. Create a class Rectangle with methods set_dimensions() to set the dimensions and area() to calculate the area.\n",
        "class Rectangle:\n",
        "    def set_dimensions(self, width, height):\n",
        "        self.width = width\n",
        "        self.height = height\n",
        "\n",
        "    def area(self):\n",
        "        return self.width * self.height\n",
        "\n",
        "r = Rectangle()\n",
        "r.set_dimensions(5, 7)\n",
        "print(r.area())"
      ],
      "metadata": {
        "colab": {
          "base_uri": "https://localhost:8080/"
        },
        "id": "NbSJX1oVeFT1",
        "outputId": "1ca370bb-8cb9-476f-f7f7-9175e8067c19"
      },
      "execution_count": 14,
      "outputs": [
        {
          "output_type": "stream",
          "name": "stdout",
          "text": [
            "35\n"
          ]
        }
      ]
    },
    {
      "cell_type": "code",
      "source": [
        "#14. Create a class Employee with a method calculate_salary() that computes the salary based on hours worked and hourly rate. Create a derived class Manager that adds a bonus to the salary.\n",
        "\n",
        "class Employee:\n",
        "    def __init__(self, hours, rate):\n",
        "        self.hours = hours\n",
        "        self.rate = rate\n",
        "\n",
        "    def calculate_salary(self):\n",
        "        return self.hours * self.rate\n",
        "\n",
        "class Manager(Employee):\n",
        "    def __init__(self, hours, rate, bonus):\n",
        "        super().__init__(hours, rate)\n",
        "        self.bonus = bonus\n",
        "\n",
        "    def calculate_salary(self):\n",
        "        return super().calculate_salary() + self.bonus\n",
        "\n",
        "e = Employee(40, 20)\n",
        "m = Manager(40, 30, 500)\n",
        "\n",
        "print(\"Employee salary:\", e.calculate_salary())\n",
        "print(\"Manager salary:\", m.calculate_salary())"
      ],
      "metadata": {
        "colab": {
          "base_uri": "https://localhost:8080/"
        },
        "id": "oo5duQeZeI9P",
        "outputId": "6ed66935-5c33-485e-8b24-509239eff885"
      },
      "execution_count": 15,
      "outputs": [
        {
          "output_type": "stream",
          "name": "stdout",
          "text": [
            "Employee salary: 800\n",
            "Manager salary: 1700\n"
          ]
        }
      ]
    },
    {
      "cell_type": "code",
      "source": [
        "#15. Create a class Product with attributes name, price, and quantity. Implement a method total_price() that calculates the total price of the product.\n",
        "class Product:\n",
        "    def __init__(self, name, price, quantity):\n",
        "        self.name = name\n",
        "        self.price = price\n",
        "        self.quantity = quantity\n",
        "\n",
        "    def total_price(self):\n",
        "        return self.price * self.quantity\n",
        "\n",
        "p = Product(\"Laptop\", 50000, 2)\n",
        "print(f\"Total price: ₹{p.total_price()}\")"
      ],
      "metadata": {
        "colab": {
          "base_uri": "https://localhost:8080/"
        },
        "id": "dKYVAa4hePCv",
        "outputId": "c0cb2edb-15e3-43b8-f1f2-343d3d91356f"
      },
      "execution_count": 16,
      "outputs": [
        {
          "output_type": "stream",
          "name": "stdout",
          "text": [
            "Total price: ₹100000\n"
          ]
        }
      ]
    },
    {
      "cell_type": "code",
      "source": [
        "#16. Create a class Animal with an abstract method sound(). Create two derived classes Cow and Sheep that implement the sound() method.\n",
        "from abc import ABC, abstractmethod\n",
        "\n",
        "class Animal(ABC):\n",
        "    @abstractmethod\n",
        "    def sound(self):\n",
        "        pass\n",
        "\n",
        "class Cow(Animal):\n",
        "    def sound(self):\n",
        "        print(\"Moo\")\n",
        "\n",
        "class Sheep(Animal):\n",
        "    def sound(self):\n",
        "        print(\"Baa\")\n",
        "\n",
        "cow = Cow()\n",
        "sheep = Sheep()\n",
        "cow.sound()\n",
        "sheep.sound()"
      ],
      "metadata": {
        "colab": {
          "base_uri": "https://localhost:8080/"
        },
        "id": "KgNwyFZcefFP",
        "outputId": "d19d425c-a385-47cc-8404-7137de9f58e7"
      },
      "execution_count": 17,
      "outputs": [
        {
          "output_type": "stream",
          "name": "stdout",
          "text": [
            "Moo\n",
            "Baa\n"
          ]
        }
      ]
    },
    {
      "cell_type": "code",
      "source": [
        "#17. Create a class Book with attributes title, author, and year_published. Add a method get_book_info() that returns a formatted string with the book's details.\n",
        "class Book:\n",
        "    def __init__(self, title, author, year_published):\n",
        "        self.title = title\n",
        "        self.author = author\n",
        "        self.year_published = year_published\n",
        "\n",
        "    def get_book_info(self):\n",
        "        return f\"'{self.title}' by {self.author} (Published in {self.year_published})\"\n",
        "\n",
        "book = Book(\"To Kill a Mockingbird\", \"Harper Lee\", 1960)\n",
        "print(book.get_book_info())"
      ],
      "metadata": {
        "colab": {
          "base_uri": "https://localhost:8080/"
        },
        "id": "qLsF-wp2ejYd",
        "outputId": "7dd356ca-de9c-40c9-cf8b-0f9ea311563e"
      },
      "execution_count": 18,
      "outputs": [
        {
          "output_type": "stream",
          "name": "stdout",
          "text": [
            "'To Kill a Mockingbird' by Harper Lee (Published in 1960)\n"
          ]
        }
      ]
    },
    {
      "cell_type": "code",
      "source": [
        "#18. Create a class House with attributes address and price. Create a derived class Mansion that adds an attribute number_of_rooms.\n",
        "class House:\n",
        "    def __init__(self, address, price):\n",
        "        self.address = address\n",
        "        self.price = price\n",
        "\n",
        "    def display_info(self):\n",
        "        print(f\"Address: {self.address}\")\n",
        "        print(f\"Price: ₹{self.price}\")\n",
        "\n",
        "class Mansion(House):\n",
        "    def __init__(self, address, price, number_of_rooms):\n",
        "        super().__init__(address, price)\n",
        "        self.number_of_rooms = number_of_rooms\n",
        "\n",
        "    def display_info(self):\n",
        "        super().display_info()\n",
        "        print(f\"Number of Rooms: {self.number_of_rooms}\")\n",
        "\n",
        "# Creating a House object\n",
        "house = House(\"456 Oak Avenue\", 5000000)\n",
        "house.display_info()\n",
        "\n",
        "print(\"\\n---\\n\")\n",
        "\n",
        "# Creating a Mansion object\n",
        "mansion = Mansion(\"789 Luxury Blvd\", 15000000, 10)\n",
        "mansion.display_info()"
      ],
      "metadata": {
        "colab": {
          "base_uri": "https://localhost:8080/"
        },
        "id": "THsKVN_UeoMT",
        "outputId": "e61c7f4c-a0ee-4c28-ea39-1386ee42f3b0"
      },
      "execution_count": 19,
      "outputs": [
        {
          "output_type": "stream",
          "name": "stdout",
          "text": [
            "Address: 456 Oak Avenue\n",
            "Price: ₹5000000\n",
            "\n",
            "---\n",
            "\n",
            "Address: 789 Luxury Blvd\n",
            "Price: ₹15000000\n",
            "Number of Rooms: 10\n"
          ]
        }
      ]
    }
  ]
}